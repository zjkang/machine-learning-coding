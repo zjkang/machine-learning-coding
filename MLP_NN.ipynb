{
  "nbformat": 4,
  "nbformat_minor": 0,
  "metadata": {
    "colab": {
      "provenance": [],
      "authorship_tag": "ABX9TyNPV4SwUcY0JKhrRPQbnus4",
      "include_colab_link": true
    },
    "kernelspec": {
      "name": "python3",
      "display_name": "Python 3"
    },
    "language_info": {
      "name": "python"
    }
  },
  "cells": [
    {
      "cell_type": "markdown",
      "metadata": {
        "id": "view-in-github",
        "colab_type": "text"
      },
      "source": [
        "<a href=\"https://colab.research.google.com/github/zjkang/machine-learning-coding/blob/main/MLP_NN.ipynb\" target=\"_parent\"><img src=\"https://colab.research.google.com/assets/colab-badge.svg\" alt=\"Open In Colab\"/></a>"
      ]
    },
    {
      "cell_type": "markdown",
      "source": [
        "Refer to [Feedforward NN](https://github.com/zjkang/Machine-Learning-Interviews/blob/main/src/MLC/notebooks/feedforward.ipynb)\n",
        "\n",
        "实现了2种方式\n",
        "* 2层神经网络,relu activation, gradient descent, 基于实现,尝试了几点改进\n",
        "    - Weight initialization LiMu的动手学习深度学习讲了Xavier\n",
        "    - Learning rate decay\n",
        "    - Regularization\n",
        "    - Mini-batch training\n",
        "    - Optimization algorithm: Adam, Adagrad, and RMSprop\n",
        "\n",
        "* 扩展版\n",
        "    - 多层网络\n",
        "    - 激活函数\n",
        "    - loss function"
      ],
      "metadata": {
        "id": "6UpJc1Z0y7EE"
      }
    },
    {
      "cell_type": "code",
      "execution_count": null,
      "metadata": {
        "id": "mGMZn8ZGm3wR"
      },
      "outputs": [],
      "source": [
        "import numpy as np\n",
        "\n",
        "class TwoLayerNet:\n",
        "    def __init__(self, input_size, hidden_size, output_size):\n",
        "        self.params = {}\n",
        "        self.params['W1'] = np.random.randn(input_size, hidden_size)\n",
        "        self.params['b1'] = np.zeros(hidden_size)\n",
        "        self.params['W2'] = np.random.randn(hidden_size, output_size)\n",
        "        self.params['b2'] = np.zeros(output_size)\n",
        "\n",
        "    def forward(self, X):\n",
        "        W1, b1 = self.params['W1'], self.params['b1']\n",
        "        W2, b2 = self.params['W2'], self.params['b2']\n",
        "        z1 = np.dot(X, W1) + b1\n",
        "        a1 = np.maximum(0, z1) # ReLU activation function\n",
        "        z2 = np.dot(a1, W2) + b2\n",
        "        # probs = 1 / (1 + np.exp(-z2)) # Sigmoid activation function\n",
        "        exp_z = np.exp(z2)\n",
        "        probs = exp_z / np.sum(exp_z, axis=1, keepdims=True)\n",
        "        return probs\n",
        "\n",
        "    def loss(self, X, y):\n",
        "        probs = self.forward(X)\n",
        "        correct_logprobs = -np.log(probs[range(len(X)), y])\n",
        "        data_loss = np.sum(correct_logprobs)\n",
        "        return 1.0/len(X) * data_loss\n",
        "\n",
        "    def train(self, X, y, num_epochs, learning_rate=0.1):\n",
        "        for epoch in range(num_epochs):\n",
        "            # Forward propagation\n",
        "            z1 = np.dot(X, self.params['W1']) + self.params['b1']\n",
        "            a1 = np.maximum(0, z1) # ReLU activation function\n",
        "            z2 = np.dot(a1, self.params['W2']) + self.params['b2']\n",
        "            # probs = 1 / (1 + np.exp(-z2)) # Softmax activation function\n",
        "            exp_z = np.exp(z2)\n",
        "            probs = exp_z / np.sum(exp_z, axis=1, keepdims=True)\n",
        "\n",
        "            # Backpropagation\n",
        "            delta3 = probs\n",
        "            delta3[range(len(X)), y] -= 1 # Softmax derivative https://zhuanlan.zhihu.com/p/374921739\n",
        "            dW2 = np.dot(a1.T, delta3)\n",
        "            db2 = np.sum(delta3, axis=0)\n",
        "            delta2 = np.dot(delta3, self.params['W2'].T) * (a1 > 0) # derivative of ReLU\n",
        "            dW1 = np.dot(X.T, delta2)\n",
        "            db1 = np.sum(delta2, axis=0)\n",
        "\n",
        "            # Update parameters\n",
        "            self.params['W1'] -= learning_rate * dW1\n",
        "            self.params['b1'] -= learning_rate * db1\n",
        "            self.params['W2'] -= learning_rate * dW2\n",
        "            self.params['b2'] -= learning_rate * db2\n",
        "\n",
        "            # Print loss for monitoring training progress\n",
        "            if epoch % 100 == 0:\n",
        "                loss = self.loss(X, y)\n",
        "                print(\"Epoch {}: loss = {}\".format(epoch, loss))"
      ]
    },
    {
      "cell_type": "code",
      "source": [
        "# Generate a toy dataset\n",
        "X = np.array([[0, 0], [0, 1], [1, 0], [1, 1]])\n",
        "y = np.array([0, 1, 1, 0])\n",
        "\n",
        "# Initialize a neural network\n",
        "net = TwoLayerNet(input_size=2, hidden_size=10, output_size=2)\n",
        "\n",
        "# Train the neural network\n",
        "net.train(X, y, num_epochs=1000)\n",
        "\n",
        "# Test the neural network\n",
        "probs = net.forward(X)\n",
        "predictions = np.argmax(probs, axis=1)\n",
        "print(\"Predictions: \", predictions)"
      ],
      "metadata": {
        "colab": {
          "base_uri": "https://localhost:8080/"
        },
        "id": "HAwiiHOqygZ_",
        "outputId": "13d65e4c-6544-410e-e5e9-cd9313ae7b2b"
      },
      "execution_count": null,
      "outputs": [
        {
          "output_type": "stream",
          "name": "stdout",
          "text": [
            "Epoch 0: loss = 0.8303842914291193\n",
            "Epoch 100: loss = 0.04766938276333535\n",
            "Epoch 200: loss = 0.019828067291249734\n",
            "Epoch 300: loss = 0.011858685673936456\n",
            "Epoch 400: loss = 0.008334605467611186\n",
            "Epoch 500: loss = 0.0063652485018918245\n",
            "Epoch 600: loss = 0.00511881633097276\n",
            "Epoch 700: loss = 0.004270173857606601\n",
            "Epoch 800: loss = 0.0036564149465816496\n",
            "Epoch 900: loss = 0.0031874020635375548\n",
            "Predictions:  [0 1 1 0]\n"
          ]
        }
      ]
    }
  ]
}