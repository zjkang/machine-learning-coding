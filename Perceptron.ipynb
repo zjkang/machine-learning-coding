{
  "nbformat": 4,
  "nbformat_minor": 0,
  "metadata": {
    "colab": {
      "provenance": [],
      "authorship_tag": "ABX9TyNGwNlNaoVMtJoPN6st+Da+",
      "include_colab_link": true
    },
    "kernelspec": {
      "name": "python3",
      "display_name": "Python 3"
    },
    "language_info": {
      "name": "python"
    }
  },
  "cells": [
    {
      "cell_type": "markdown",
      "metadata": {
        "id": "view-in-github",
        "colab_type": "text"
      },
      "source": [
        "<a href=\"https://colab.research.google.com/github/zjkang/machine-learning-coding/blob/main/Perceptron.ipynb\" target=\"_parent\"><img src=\"https://colab.research.google.com/assets/colab-badge.svg\" alt=\"Open In Colab\"/></a>"
      ]
    },
    {
      "cell_type": "markdown",
      "source": [
        "Refer to [perceptron code](https://github.com/zjkang/Machine-Learning-Interviews/blob/main/src/MLC/notebooks/perceptron.ipynb)\n",
        "\n",
        "Formula:\n",
        "* $y_{pred} = sign(w_0 + w_1*x_1 + w_2*x_2 + ... + w_n*x_n)$\n",
        "* where sign(x) = 1 x > 0 or sign(x) = -1 x < 0\n",
        "* $w_i = w_i + lr * (y - y_{pred}) * x_i$\n",
        "\n",
        "\n",
        "Procedure\n",
        "1. 初始化权重: 首先, 权重通常被初始化为一个较小的随机数或者全零向量.\n",
        "2. 对样本进行预测: 对于**每一个训练样本**, 计算Perceptron模型的输出。这可以通过将输入特征与对应的权重相乘, 然后加总, 并应用阈值函数来实现.\n",
        "3. 计算误差: 将模型的预测结果与实际标签进行比较, 得到预测误差. 对于二分类问题, 通常可以用预测标签与实际标签的差异来表示误差.\n",
        "4. 更新权重: 使用梯度下降法来更新权重, 以减小误差. 权重的更新公式在上面所示.\n",
        "通过这个更新规则，如果预测值与实际值一致，则权重不需要调整；如果预测值过大，则需要减小相应的权重；如果预测值过小，则需要增加相应的权重\n",
        "\n",
        "5.重复迭代： 重复以上步骤，直到达到某个停止条件，例如达到最大迭代次数或者误差降到一个可以接受的水平。\n",
        "6.收敛判断： 在训练过程中，可以根据模型的性能指标（如准确率或损失函数）来判断模型是否已经收敛，即模型是否已经足够拟合训练数据。\n",
        "\n",
        "在Perceptron算法中，并没有显式地使用损失函数（loss function）来进行权重的更新。相反，权重的更新是基于预测值与实际标签之间的误差"
      ],
      "metadata": {
        "id": "eSha-3yFAOMn"
      }
    },
    {
      "cell_type": "code",
      "execution_count": 1,
      "metadata": {
        "id": "4VYQrZmo4IF1"
      },
      "outputs": [],
      "source": [
        "import numpy as np\n",
        "\n",
        "class Perceptron:\n",
        "    def __init__(self, lr=0.01, n_iter=100):\n",
        "        self.lr = lr\n",
        "        self.n_iter = n_iter\n",
        "\n",
        "    def fit(self, X, y):\n",
        "        # add bias as self.weights[0], initialize weights to zeros\n",
        "        self.weights = np.zeros(1 + X.shape[1])\n",
        "        self.errors = []\n",
        "        for _ in range(self.n_iter):\n",
        "            errors = 0\n",
        "            # extract each sample {X_i, y_i}\n",
        "            for xi, yi in zip(X, y):\n",
        "                # update weights via gradient descent\n",
        "                update = self.lr * (yi - self.predict(xi))\n",
        "                self.weights[1:] += update * xi\n",
        "                self.weights[0] += update\n",
        "                # add current predicted error\n",
        "                errors += int(update != 0.0)\n",
        "            self.errors.append(errors)\n",
        "        return self\n",
        "\n",
        "    def net_input(self, X):\n",
        "        return np.dot(X, self.weights[1:]) + self.weights[0]\n",
        "\n",
        "    def predict(self, X):\n",
        "        return np.where(self.net_input(X) >= 0.0, 1, -1)"
      ]
    },
    {
      "cell_type": "code",
      "source": [
        "X = np.array([[2.0, 1.0], [3.0, 4.0], [4.0, 2.0], [3.0, 1.0]])\n",
        "y = np.array([-1, 1, 1, -1])\n",
        "perceptron = Perceptron()\n",
        "perceptron.fit(X, y)\n",
        "## print(perceptron.errors)\n",
        "\n",
        "new_X = np.array([[5.0, 2.0], [1.0, 3.0]])\n",
        "perceptron.predict(new_X)"
      ],
      "metadata": {
        "colab": {
          "base_uri": "https://localhost:8080/"
        },
        "id": "fcLexdgVBEs1",
        "outputId": "08417365-462f-4a82-ac94-eaee82501ab2"
      },
      "execution_count": 3,
      "outputs": [
        {
          "output_type": "stream",
          "name": "stdout",
          "text": [
            "[3, 2, 0, 0, 0, 0, 0, 0, 0, 0, 0, 0, 0, 0, 0, 0, 0, 0, 0, 0, 0, 0, 0, 0, 0, 0, 0, 0, 0, 0, 0, 0, 0, 0, 0, 0, 0, 0, 0, 0, 0, 0, 0, 0, 0, 0, 0, 0, 0, 0, 0, 0, 0, 0, 0, 0, 0, 0, 0, 0, 0, 0, 0, 0, 0, 0, 0, 0, 0, 0, 0, 0, 0, 0, 0, 0, 0, 0, 0, 0, 0, 0, 0, 0, 0, 0, 0, 0, 0, 0, 0, 0, 0, 0, 0, 0, 0, 0, 0, 0]\n"
          ]
        },
        {
          "output_type": "execute_result",
          "data": {
            "text/plain": [
              "array([-1,  1])"
            ]
          },
          "metadata": {},
          "execution_count": 3
        }
      ]
    }
  ]
}