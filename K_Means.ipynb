{
  "nbformat": 4,
  "nbformat_minor": 0,
  "metadata": {
    "colab": {
      "provenance": [],
      "authorship_tag": "ABX9TyONSp1tT4xZNzescOjMJ6Co",
      "include_colab_link": true
    },
    "kernelspec": {
      "name": "python3",
      "display_name": "Python 3"
    },
    "language_info": {
      "name": "python"
    }
  },
  "cells": [
    {
      "cell_type": "markdown",
      "metadata": {
        "id": "view-in-github",
        "colab_type": "text"
      },
      "source": [
        "<a href=\"https://colab.research.google.com/github/zjkang/machine-learning-coding/blob/main/K_Means.ipynb\" target=\"_parent\"><img src=\"https://colab.research.google.com/assets/colab-badge.svg\" alt=\"Open In Colab\"/></a>"
      ]
    },
    {
      "cell_type": "markdown",
      "source": [
        "Refer to [k-means](https://github.com/zjkang/Machine-Learning-Interviews/blob/main/src/MLC/notebooks/k_means.ipynb), and the impementation should be straightforward.\n",
        "\n",
        "The procedures are as follows:\n",
        "\n",
        "Initialize:\n",
        "- K: number of clusters\n",
        "- Data: the input dataset\n",
        "- Randomly select K initial centroids\n",
        "\n",
        "Repeat:\n",
        "- Assign each data point to the nearest centroid (based on Euclidean distance)\n",
        "- Calculate the mean of each cluster to update its centroid\n",
        "- Check if the centroids have converged (i.e., they no longer change)\n",
        "\n",
        "Until:\n",
        "- The centroids have converged\n",
        "- The maximum number of iterations has been reached\n",
        "\n",
        "Output:\n",
        "- The final K clusters and their corresponding centroids"
      ],
      "metadata": {
        "id": "YzOUY8VBA4ZI"
      }
    },
    {
      "cell_type": "code",
      "execution_count": 18,
      "metadata": {
        "id": "92-7ff95AlcT"
      },
      "outputs": [],
      "source": [
        "import numpy as np\n",
        "\n",
        "class KMeans:\n",
        "    def __init__(self, k, max_iterations=100):\n",
        "        self.k = k\n",
        "        self.max_iterations = max_iterations\n",
        "\n",
        "    def fit(self, X):\n",
        "        # Initialize centroids randomly\n",
        "        random_index = np.random.choice(range(len(X)), self.k, replace=False)\n",
        "        print(random_index)\n",
        "        self.centroids = X[random_index]\n",
        "\n",
        "        for i in range(self.max_iterations):\n",
        "            # Assign each data point to the nearest centroid\n",
        "            cluster_assignments = []\n",
        "            for j in range(len(X)):\n",
        "                distances = np.linalg.norm(X[j] - self.centroids, axis=1)\n",
        "                cluster_assignments.append(np.argmin(distances))\n",
        "\n",
        "            # Update centroids\n",
        "            for k in range(self.k):\n",
        "                cluster_data_points = X[np.where(np.array(cluster_assignments) == k)]\n",
        "                if len(cluster_data_points) > 0:\n",
        "                    self.centroids[k] = np.mean(cluster_data_points, axis=0)\n",
        "\n",
        "            # Check for convergence\n",
        "            if i > 0 and np.array_equal(self.centroids, previous_centroids):\n",
        "                print(previous_centroids)\n",
        "                print(self.centroids)\n",
        "                print(f'Convergence after {i} iterations')\n",
        "                break\n",
        "\n",
        "            # Update previous centroids\n",
        "            previous_centroids = np.copy(self.centroids)\n",
        "\n",
        "        # Store the final cluster assignments\n",
        "        self.cluster_assignments = cluster_assignments\n",
        "\n",
        "    def predict(self, X):\n",
        "        # Assign each data point to the nearest centroid\n",
        "        cluster_assignments = []\n",
        "        for j in range(len(X)):\n",
        "            distances = np.linalg.norm(X[j] - self.centroids, axis=1)\n",
        "            cluster_assignments.append(np.argmin(distances))\n",
        "\n",
        "        return cluster_assignments"
      ]
    },
    {
      "cell_type": "code",
      "source": [
        "x1 = np.random.randn(100,2) + 5\n",
        "x2 = np.random.randn(10,2) - 5\n",
        "X = np.concatenate([x1,x2], axis=0)\n",
        "\n",
        "# Initialize the KMeans object with k=3\n",
        "kmeans = KMeans(k=2)\n",
        "\n",
        "# Fit the k-means model to the dataset\n",
        "kmeans.fit(X)\n",
        "\n",
        "# Get the cluster assignments for the input dataset\n",
        "cluster_assignments = kmeans.predict(X)\n",
        "\n",
        "# Print the cluster assignments\n",
        "print(cluster_assignments)\n",
        "\n",
        "# Print the learned centroids\n",
        "print(kmeans.centroids)"
      ],
      "metadata": {
        "colab": {
          "base_uri": "https://localhost:8080/"
        },
        "id": "nTft6Pb3Dl1w",
        "outputId": "c4cc5558-2d55-496f-f617-ec901d8c1eed"
      },
      "execution_count": 19,
      "outputs": [
        {
          "output_type": "stream",
          "name": "stdout",
          "text": [
            "[106 104]\n",
            "[[ 4.93701614  5.08834532]\n",
            " [-4.66077738 -5.15977703]]\n",
            "[[ 4.93701614  5.08834532]\n",
            " [-4.66077738 -5.15977703]]\n",
            "Convergence after 2 iterations\n",
            "[0, 0, 0, 0, 0, 0, 0, 0, 0, 0, 0, 0, 0, 0, 0, 0, 0, 0, 0, 0, 0, 0, 0, 0, 0, 0, 0, 0, 0, 0, 0, 0, 0, 0, 0, 0, 0, 0, 0, 0, 0, 0, 0, 0, 0, 0, 0, 0, 0, 0, 0, 0, 0, 0, 0, 0, 0, 0, 0, 0, 0, 0, 0, 0, 0, 0, 0, 0, 0, 0, 0, 0, 0, 0, 0, 0, 0, 0, 0, 0, 0, 0, 0, 0, 0, 0, 0, 0, 0, 0, 0, 0, 0, 0, 0, 0, 0, 0, 0, 0, 1, 1, 1, 1, 1, 1, 1, 1, 1, 1]\n",
            "[[ 4.93701614  5.08834532]\n",
            " [-4.66077738 -5.15977703]]\n"
          ]
        }
      ]
    },
    {
      "cell_type": "code",
      "source": [
        "from matplotlib import pyplot as plt\n",
        "# Plot the data points with different colors based on their cluster assignments\n",
        "colors = ['r', 'b']\n",
        "for i in range(kmeans.k):\n",
        "    plt.scatter(X[np.where(np.array(cluster_assignments) == i)][:,0],\n",
        "                X[np.where(np.array(cluster_assignments) == i)][:,1],\n",
        "                color=colors[i])\n",
        "\n",
        "# Plot the centroids as black circles\n",
        "plt.scatter(kmeans.centroids[:,0], kmeans.centroids[:,1], color='black', marker='o')\n",
        "\n",
        "# Show the plot\n",
        "plt.show()"
      ],
      "metadata": {
        "colab": {
          "base_uri": "https://localhost:8080/",
          "height": 430
        },
        "id": "HWPsMsRMDvIX",
        "outputId": "15728386-656f-4c5b-eb8f-0fbf908944c2"
      },
      "execution_count": 20,
      "outputs": [
        {
          "output_type": "display_data",
          "data": {
            "text/plain": [
              "<Figure size 640x480 with 1 Axes>"
            ],
            "image/png": "[encoded data removed]"
          },
          "metadata": {}
        }
      ]
    }
  ]
}