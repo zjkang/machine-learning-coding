{
  "nbformat": 4,
  "nbformat_minor": 0,
  "metadata": {
    "colab": {
      "provenance": [],
      "authorship_tag": "ABX9TyNlLDVhaauZHogpR2YExCqT",
      "include_colab_link": true
    },
    "kernelspec": {
      "name": "python3",
      "display_name": "Python 3"
    },
    "language_info": {
      "name": "python"
    }
  },
  "cells": [
    {
      "cell_type": "markdown",
      "metadata": {
        "id": "view-in-github",
        "colab_type": "text"
      },
      "source": [
        "<a href=\"https://colab.research.google.com/github/zjkang/machine-learning-coding/blob/main/Logistic_Regression.ipynb\" target=\"_parent\"><img src=\"https://colab.research.google.com/assets/colab-badge.svg\" alt=\"Open In Colab\"/></a>"
      ]
    },
    {
      "cell_type": "markdown",
      "source": [
        "Refer [logistic regression coding](https://github.com/alirezadir/Machine-Learning-Interviews/blob/main/src/MLC/notebooks/logistic_regression.ipynb) as code reference.\n",
        "\n",
        "实现了2个方法\n",
        "* 标准的logistic regression\n",
        "* logistic regression with (1) add regularization (2) mini-batch SGD\n",
        "\n",
        "Refer [here](https://web.stanford.edu/~jurafsky/slp3/5.pdf) detailed logistic regression explanation\n",
        "\n",
        "For binary classifiction $(X,y), y \\in [0,1]$,\n",
        "* $z = w_1x_1+w_2x_2 + ... + w_nx_n + b$\n",
        "* $\\hat{y} = 1/(1+e^{-z})$\n",
        "* the loss function for one example should be $loss(y, \\hat{y}) = -[ylog\\hat{y} + (1-y)log(1-\\hat{y})]$\n",
        "* the gradient is $\\frac{\\partial l}{\\partial w_j} = (\\hat{y} - y)x_j$\n"
      ],
      "metadata": {
        "id": "ObY8MOpYX8ab"
      }
    },
    {
      "cell_type": "code",
      "execution_count": 2,
      "metadata": {
        "id": "nVsKmGp5Ucur"
      },
      "outputs": [],
      "source": [
        "# method 1: 标准的logistic regression\n",
        "import numpy as np\n",
        "\n",
        "class LogisticRegression:\n",
        "\n",
        "    def __init__(self, learning_rate=0.01, n_iters=1000):\n",
        "        self.learning_rate = learning_rate\n",
        "        self.n_iters = n_iters\n",
        "        self.weights = None\n",
        "        self.bias = None\n",
        "\n",
        "    def fit(self, X, y):\n",
        "        # initialize weights and bias to zeros\n",
        "        n_samples, n_features = X.shape\n",
        "        self.weights = np.zeros(n_features)\n",
        "        self.bias = 0\n",
        "\n",
        "        # gradient descent optimization\n",
        "        for i in range(self.n_iters):\n",
        "            # calculate predicted probabilities and cost\n",
        "            z = np.dot(X, self.weights) + self.bias\n",
        "            y_pred = self._sigmoid(z)\n",
        "            cost = (-1 / n_samples) * np.sum(y * np.log(y_pred) + (1 - y) * np.log(1 - y_pred))\n",
        "\n",
        "            # calculate gradients\n",
        "            dw = (1 / n_samples) * np.dot(X.T, (y_pred - y))\n",
        "            db = (1 / n_samples) * np.sum(y_pred - y)\n",
        "\n",
        "            # update weights and bias\n",
        "            self.weights -= self.learning_rate * dw\n",
        "            self.bias -= self.learning_rate * db\n",
        "\n",
        "    def predict(self, X):\n",
        "        # calculate predicted probabilities\n",
        "        z = np.dot(X, self.weights) + self.bias\n",
        "        y_pred = self._sigmoid(z)\n",
        "        # convert probabilities to binary predictions\n",
        "        return np.round(y_pred).astype(int)\n",
        "\n",
        "    def _sigmoid(self, z):\n",
        "        return 1 / (1 + np.exp(-z))"
      ]
    },
    {
      "cell_type": "code",
      "source": [
        "# create sample dataset\n",
        "X = np.array([[1, 2], [2, 3], [3, 4], [4, 5], [5, 6]])\n",
        "y = np.array([0, 0, 1, 1, 1])\n",
        "\n",
        "# initialize logistic regression model\n",
        "lr = LogisticRegression()\n",
        "\n",
        "# train model on sample dataset\n",
        "lr.fit(X, y)\n",
        "\n",
        "# make predictions on new data\n",
        "X_new = np.array([[6, 7], [7, 8]])\n",
        "y_pred = lr.predict(X_new)\n",
        "\n",
        "print(y_pred)  # [1, 1]"
      ],
      "metadata": {
        "colab": {
          "base_uri": "https://localhost:8080/"
        },
        "id": "SsdQy3P3Z4Mn",
        "outputId": "9f610e45-d686-464e-ec2c-9d278c2d678a"
      },
      "execution_count": 3,
      "outputs": [
        {
          "output_type": "stream",
          "name": "stdout",
          "text": [
            "[1 1]\n"
          ]
        }
      ]
    },
    {
      "cell_type": "code",
      "source": [
        "# method 2: logistic regression with (1) add regularization (2) mini-batch SGD\n",
        "# note: 感觉mini-batch写的有点问题。n_iters应该等价epochs,对于每一个epoch,mini-batch的时候应该打乱顺序逐个抽取数据.\n",
        "import numpy as np\n",
        "\n",
        "class LogisticRegression:\n",
        "\n",
        "    def __init__(self, learning_rate=0.01, n_iters=1000, regularization='l2', reg_strength=0.1, batch_size=32):\n",
        "        self.learning_rate = learning_rate\n",
        "        self.n_iters = n_iters\n",
        "        self.regularization = regularization\n",
        "        self.reg_strength = reg_strength\n",
        "        self.batch_size = batch_size\n",
        "        self.weights = None\n",
        "        self.bias = None\n",
        "\n",
        "    def fit(self, X, y):\n",
        "        n_samples, n_features = X.shape\n",
        "        self.weights = np.zeros(n_features)\n",
        "        self.bias = 0\n",
        "        n_batches = n_samples // self.batch_size\n",
        "        for i in range(self.n_iters):\n",
        "            batch_indices = np.random.choice(n_samples, self.batch_size)\n",
        "            X_batch = X[batch_indices]\n",
        "            y_batch = y[batch_indices]\n",
        "            z = np.dot(X_batch, self.weights) + self.bias\n",
        "            y_pred = self._sigmoid(z)\n",
        "            cost = (-1 / self.batch_size) * np.sum(y_batch * np.log(y_pred) + (1 - y_batch) * np.log(1 - y_pred))\n",
        "            if self.regularization == 'l2':\n",
        "                reg_cost = (self.reg_strength / (2 * n_samples)) * np.sum(self.weights ** 2)\n",
        "                cost += reg_cost\n",
        "            elif self.regularization == 'l1':\n",
        "                reg_cost = (self.reg_strength / (2 * n_samples)) * np.sum(np.abs(self.weights))\n",
        "                cost += reg_cost\n",
        "            dw = (1 / self.batch_size) * np.dot(X_batch.T, (y_pred - y_batch))\n",
        "            db = (1 / self.batch_size) * np.sum(y_pred - y_batch)\n",
        "            if self.regularization == 'l2':\n",
        "                dw += (self.reg_strength / n_samples) * self.weights\n",
        "            elif self.regularization == 'l1':\n",
        "                dw += (self.reg_strength / n_samples) * np.sign(self.weights)\n",
        "            self.weights -= self.learning_rate * dw\n",
        "            self.bias -= self.learning_rate * db\n",
        "\n",
        "    def predict(self, X):\n",
        "        z = np.dot(X, self.weights) + self.bias\n",
        "        y_pred = self._sigmoid(z)\n",
        "        return np.round(y_pred).astype(int)\n",
        "\n",
        "    def _sigmoid(self, z):\n",
        "        return 1 / (1 + np.exp(-z))"
      ],
      "metadata": {
        "id": "UUqYUFao_yEv"
      },
      "execution_count": 1,
      "outputs": []
    },
    {
      "cell_type": "code",
      "source": [
        "# create sample dataset\n",
        "X = np.array([[1, 2], [2, 3], [3, 4], [4, 5], [5, 6]])\n",
        "y = np.array([0, 0, 1, 1, 1])\n",
        "\n",
        "# initialize logistic regression model\n",
        "lr = LogisticRegression(learning_rate=0.01, n_iters=1000, regularization='l2', reg_strength=0.1, batch_size=2)\n",
        "\n",
        "# train model on sample dataset\n",
        "lr.fit(X, y)\n",
        "\n",
        "# make predictions on new data\n",
        "X_new = np.array([[6, 7], [7, 8]])\n",
        "y_pred = lr.predict(X_new)\n",
        "\n",
        "print(y_pred)  # [1, 1]"
      ],
      "metadata": {
        "colab": {
          "base_uri": "https://localhost:8080/"
        },
        "id": "GBy_Ke0g_6pW",
        "outputId": "a8025a76-db07-4c50-8d88-80f4ca062def"
      },
      "execution_count": 2,
      "outputs": [
        {
          "output_type": "stream",
          "name": "stdout",
          "text": [
            "[1 1]\n"
          ]
        }
      ]
    },
    {
      "cell_type": "code",
      "source": [
        "# note:\n",
        "import matplotlib.pyplot as plt\n",
        "\n",
        "# create 2D dataset\n",
        "X = np.array([[1, 2], [2, 3], [3, 4], [4, 5], [5, 6]])\n",
        "y = np.array([0, 0, 1, 1, 1])\n",
        "\n",
        "# initialize logistic regression model\n",
        "lr = LogisticRegression(learning_rate=0.01, n_iters=1000, regularization='l2', reg_strength=0.1, batch_size=2)\n",
        "\n",
        "# train model on dataset\n",
        "lr.fit(X, y)\n",
        "\n",
        "# plot decision boundary\n",
        "x1 = np.linspace(0, 6, 100)\n",
        "x2 = np.linspace(0, 8, 100)\n",
        "xx, yy = np.meshgrid(x1, x2)\n",
        "Z = lr.predict(np.c_[xx.ravel(), yy.ravel()])\n",
        "Z = Z.reshape(xx.shape)\n",
        "plt.contourf(xx, yy, Z, cmap=plt.cm.Spectral, alpha=0.8)\n",
        "\n",
        "# plot data points\n",
        "plt.scatter(X[:,0], X[:,1], c=y, cmap=plt.cm.Spectral)\n",
        "\n",
        "plt.show()"
      ],
      "metadata": {
        "colab": {
          "base_uri": "https://localhost:8080/",
          "height": 435
        },
        "id": "cIwGf_H0DmpU",
        "outputId": "fd789978-b114-4567-ad07-dfca228f48a2"
      },
      "execution_count": 6,
      "outputs": [
        {
          "output_type": "display_data",
          "data": {
            "text/plain": [
              "<Figure size 640x480 with 1 Axes>"
            ],
            "image/png": "[encoded data removed]"
          },
          "metadata": {}
        }
      ]
    },
    {
      "cell_type": "code",
      "source": [],
      "metadata": {
        "id": "G65JqPbcdrzX"
      },
      "execution_count": null,
      "outputs": []
    },
    {
      "cell_type": "code",
      "source": [
        "# method 3: logistic regression with (1) add regularization (2) mini-batch SGD\n",
        "import numpy as np\n",
        "\n",
        "class LogisticRegression:\n",
        "\n",
        "    def __init__(self, learning_rate=0.01, n_iters=1000, regularization='l2', reg_strength=0.1, batch_size=32):\n",
        "        self.learning_rate = learning_rate\n",
        "        self.n_iters = n_iters\n",
        "        self.regularization = regularization\n",
        "        self.reg_strength = reg_strength\n",
        "        self.batch_size = batch_size\n",
        "        self.weights = None\n",
        "        self.bias = None\n",
        "\n",
        "    def fit(self, X, y):\n",
        "        n_samples, n_features = X.shape\n",
        "        self.weights = np.zeros(n_features)\n",
        "        self.bias = 0\n",
        "        n_batches = n_samples // self.batch_size\n",
        "        for i in range(self.n_iters):\n",
        "            indices = np.random.permutation(n_samples) # shffule all samples\n",
        "            for j in range(0, n_samples, self.batch_size):\n",
        "                batch_indices = indices[j:j + self.batch_size]\n",
        "                X_batch = X[batch_indices]\n",
        "                y_batch = y[batch_indices]\n",
        "                z = np.dot(X_batch, self.weights) + self.bias\n",
        "                y_pred = self._sigmoid(z)\n",
        "                cost = (-1 / self.batch_size) * np.sum(y_batch * np.log(y_pred) + (1 - y_batch) * np.log(1 - y_pred))\n",
        "                if self.regularization == 'l2':\n",
        "                    reg_cost = (self.reg_strength / (2 * n_samples)) * np.sum(self.weights ** 2)\n",
        "                    cost += reg_cost\n",
        "                elif self.regularization == 'l1':\n",
        "                    reg_cost = (self.reg_strength / (2 * n_samples)) * np.sum(np.abs(self.weights))\n",
        "                    cost += reg_cost\n",
        "                dw = (1 / self.batch_size) * np.dot(X_batch.T, (y_pred - y_batch))\n",
        "                db = (1 / self.batch_size) * np.sum(y_pred - y_batch)\n",
        "                if self.regularization == 'l2':\n",
        "                    dw += (self.reg_strength / n_samples) * self.weights\n",
        "                elif self.regularization == 'l1':\n",
        "                    dw += (self.reg_strength / n_samples) * np.sign(self.weights)\n",
        "                self.weights -= self.learning_rate * dw\n",
        "                self.bias -= self.learning_rate * db\n",
        "\n",
        "    def predict(self, X):\n",
        "        z = np.dot(X, self.weights) + self.bias\n",
        "        y_pred = self._sigmoid(z)\n",
        "        return np.round(y_pred).astype(int)\n",
        "\n",
        "    def _sigmoid(self, z):\n",
        "        return 1 / (1 + np.exp(-z))"
      ],
      "metadata": {
        "id": "YyKEYx0odne3"
      },
      "execution_count": 5,
      "outputs": []
    },
    {
      "cell_type": "code",
      "source": [
        "# note:\n",
        "import matplotlib.pyplot as plt\n",
        "\n",
        "# create 2D dataset\n",
        "X = np.array([[1, 2], [2, 3], [3, 4], [4, 5], [5, 6]])\n",
        "y = np.array([0, 0, 1, 1, 1])\n",
        "\n",
        "# initialize logistic regression model\n",
        "lr = LogisticRegression(learning_rate=0.01, n_iters=1000, regularization='l2', reg_strength=0.1, batch_size=2)\n",
        "\n",
        "# train model on dataset\n",
        "lr.fit(X, y)\n",
        "\n",
        "# plot decision boundary\n",
        "x1 = np.linspace(0, 6, 100)\n",
        "x2 = np.linspace(0, 8, 100)\n",
        "xx, yy = np.meshgrid(x1, x2)\n",
        "Z = lr.predict(np.c_[xx.ravel(), yy.ravel()])\n",
        "Z = Z.reshape(xx.shape)\n",
        "plt.contourf(xx, yy, Z, cmap=plt.cm.Spectral, alpha=0.8)\n",
        "\n",
        "# plot data points\n",
        "plt.scatter(X[:,0], X[:,1], c=y, cmap=plt.cm.Spectral)\n",
        "\n",
        "plt.show()"
      ],
      "metadata": {
        "colab": {
          "base_uri": "https://localhost:8080/",
          "height": 435
        },
        "id": "VHgDrj3rdtD5",
        "outputId": "caf1316b-d9da-45ca-8298-e56a3c4ac3b1"
      },
      "execution_count": 6,
      "outputs": [
        {
          "output_type": "display_data",
          "data": {
            "text/plain": [
              "<Figure size 640x480 with 1 Axes>"
            ],
            "image/png": "[encoded data removed]"
          },
          "metadata": {}
        }
      ]
    },
    {
      "cell_type": "code",
      "source": [],
      "metadata": {
        "colab": {
          "base_uri": "https://localhost:8080/"
        },
        "id": "D8-pWUSVfg-E",
        "outputId": "05289dc2-b239-46ab-837e-5d7a4cebfd6e"
      },
      "execution_count": 4,
      "outputs": [
        {
          "output_type": "stream",
          "name": "stdout",
          "text": [
            "[4 5]\n"
          ]
        }
      ]
    }
  ]
}